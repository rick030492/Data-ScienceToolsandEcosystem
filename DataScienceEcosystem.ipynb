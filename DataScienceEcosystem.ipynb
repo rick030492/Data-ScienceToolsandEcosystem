{
 "cells": [
  {
   "cell_type": "markdown",
   "id": "cfd168f5-182f-40aa-b861-a00cffcabd5a",
   "metadata": {},
   "source": [
    "# Data Science Tools and Ecosystem"
   ]
  },
  {
   "cell_type": "markdown",
   "id": "f204e775-fb62-4185-a0a9-922bc6e3ee32",
   "metadata": {},
   "source": [
    "In this notebook, Data Science Tools and Ecosystem are summarized."
   ]
  },
  {
   "cell_type": "markdown",
   "id": "38f00c78-c276-4aa2-92fc-10765c8d1679",
   "metadata": {},
   "source": [
    "**Objectives**\n",
    "- List of popular languages that Data Scientists use\n",
    "- List of commonly used libraries used by Data Scientists.\n",
    "- Data Science tools.\n",
    "- Some examples in Python\n"
   ]
  },
  {
   "cell_type": "markdown",
   "id": "5811001e-9b22-445a-9eb4-31f8c1c4f8e9",
   "metadata": {},
   "source": [
    "# Some of the popular languages that Data Scientists use are:"
   ]
  },
  {
   "cell_type": "markdown",
   "id": "0607729c-45a0-4d0f-80a5-8b35693250cc",
   "metadata": {},
   "source": [
    "1. Python\n",
    "2. Julia\n",
    "3. SQL\n",
    "4. Java Script\n",
    "5. R"
   ]
  },
  {
   "cell_type": "markdown",
   "id": "10f6e624-f238-4cef-bf7d-caf5d314d693",
   "metadata": {},
   "source": [
    "# Some of the commonly used libraries used by Data Scientists include:"
   ]
  },
  {
   "cell_type": "markdown",
   "id": "a1f6885e-4f67-423a-8e8e-7c4ce50d0a36",
   "metadata": {},
   "source": [
    "1. Matplotlib and Seaborn\n",
    "2. Scikit-Learn\n",
    "3. Tensorflow\n",
    "4. Pandas\n",
    "5. Numpys\n",
    "6. keras"
   ]
  },
  {
   "cell_type": "markdown",
   "id": "cffda131-6840-4ac8-83f0-d361cf4b8165",
   "metadata": {},
   "source": [
    "|Data Science Tools|\n",
    "|-------------------|\n",
    "|1. IDES: Vs code , Rstudio , google colab|\n",
    "|2. Sofwares: weka , knime ,orange|\n",
    "|3. Version Control System: git|"
   ]
  },
  {
   "cell_type": "markdown",
   "id": "7af7d42f-55d7-4bf8-934d-5a45a924b6d0",
   "metadata": {},
   "source": [
    "### Below are a few examples of evaluating arithmetic expressions in Python"
   ]
  },
  {
   "cell_type": "code",
   "execution_count": 1,
   "id": "e1df74dc-a58d-4877-bd12-ab9da5ee5773",
   "metadata": {},
   "outputs": [
    {
     "name": "stdout",
     "output_type": "stream",
     "text": [
      "58\n"
     ]
    }
   ],
   "source": [
    "\n",
    "first_num = 32\n",
    "second_num = 26\n",
    "sum = first_num + second_num\n",
    "print(sum)"
   ]
  },
  {
   "cell_type": "code",
   "execution_count": null,
   "id": "4e959bae-907f-4a9b-8269-79cdc0e02770",
   "metadata": {},
   "outputs": [],
   "source": [
    "# This a simple arithmetic expression to mutiply then add integers"
   ]
  },
  {
   "cell_type": "code",
   "execution_count": 2,
   "id": "fcb7bbc4-7369-43b5-8a6f-3ad2ea767c0d",
   "metadata": {},
   "outputs": [
    {
     "data": {
      "text/plain": [
       "17"
      ]
     },
     "execution_count": 2,
     "metadata": {},
     "output_type": "execute_result"
    }
   ],
   "source": [
    "(3*4)+5"
   ]
  },
  {
   "cell_type": "code",
   "execution_count": 3,
   "id": "d10b512c-3cc9-4df9-940d-f28854e6ad6b",
   "metadata": {},
   "outputs": [
    {
     "name": "stdout",
     "output_type": "stream",
     "text": [
      "in hours: 3.3333333333333335\n"
     ]
    }
   ],
   "source": [
    "# This will convert 200 minutes to hours by diving by 60\n",
    "minutes = 200\n",
    "print (\"in hours:\" ,minutes/60)"
   ]
  },
  {
   "cell_type": "markdown",
   "id": "417c591e-6888-4bac-a9fb-b34687593421",
   "metadata": {},
   "source": [
    "## AUTHOR: José Ricardo Díaz Ramirez"
   ]
  }
 ],
 "metadata": {
  "kernelspec": {
   "display_name": "Python 3 (ipykernel)",
   "language": "python",
   "name": "python3"
  },
  "language_info": {
   "codemirror_mode": {
    "name": "ipython",
    "version": 3
   },
   "file_extension": ".py",
   "mimetype": "text/x-python",
   "name": "python",
   "nbconvert_exporter": "python",
   "pygments_lexer": "ipython3",
   "version": "3.11.7"
  }
 },
 "nbformat": 4,
 "nbformat_minor": 5
}
